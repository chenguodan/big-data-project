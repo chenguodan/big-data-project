{
 "metadata": {
  "name": "",
  "signature": "sha256:ab429f8fde000c8dd4cc499da2ce1045f4f4bc15bedfc715aa63059d574db438"
 },
 "nbformat": 3,
 "nbformat_minor": 0,
 "worksheets": [
  {
   "cells": [
    {
     "cell_type": "code",
     "collapsed": false,
     "input": [
      "import requests\n",
      "r = requests.get('http://www.wunderground.com/history/airport/KNYC/2013/1/1/DailyHistory.html?req_city=New+York&req_state=NY&req_statename=&reqdb.zip=10106&reqdb.magic=4&reqdb.wmo=99999&format=1')\n",
      "data = r.text\n",
      "f = open('20130101.csv', 'a')\n",
      "f.write(data)\n",
      "f.close()"
     ],
     "language": "python",
     "metadata": {},
     "outputs": [],
     "prompt_number": 15
    },
    {
     "cell_type": "code",
     "collapsed": false,
     "input": [
      "import numpy as np"
     ],
     "language": "python",
     "metadata": {},
     "outputs": [],
     "prompt_number": 16
    },
    {
     "cell_type": "code",
     "collapsed": false,
     "input": [
      "for i in np.arange(1, 32):\n",
      "    r = requests.get('http://www.wunderground.com/history/airport/KNYC/2013/12/'+str(i)+'/DailyHistory.html?req_city=New+York&req_state=NY&req_statename=&reqdb.zip=10106&reqdb.magic=4&reqdb.wmo=99999&format=1')\n",
      "    data = r.text\n",
      "    f = open('201312'+str(i).zfill(2)+'.csv', 'a')\n",
      "    f.write(data)\n",
      "    f.close()"
     ],
     "language": "python",
     "metadata": {},
     "outputs": [],
     "prompt_number": 27
    },
    {
     "cell_type": "code",
     "collapsed": false,
     "input": [
      "for i in np.arange(1, 31):\n",
      "    r = requests.get('http://www.wunderground.com/history/airport/KNYC/2013/11/'+str(i)+'/DailyHistory.html?req_city=New+York&req_state=NY&req_statename=&reqdb.zip=10106&reqdb.magic=4&reqdb.wmo=99999&format=1')\n",
      "    data = r.text\n",
      "    f = open('201311'+str(i).zfill(2)+'.csv', 'a')\n",
      "    f.write(data)\n",
      "    f.close()"
     ],
     "language": "python",
     "metadata": {},
     "outputs": [],
     "prompt_number": 26
    },
    {
     "cell_type": "code",
     "collapsed": false,
     "input": [],
     "language": "python",
     "metadata": {},
     "outputs": []
    }
   ],
   "metadata": {}
  }
 ]
}